{
 "cells": [
  {
   "cell_type": "markdown",
   "metadata": {},
   "source": [
    "# Sparkify project - Feature engineering \n",
    "In the previous notebook, an extensive data exploration has been done to identify the different information in the dataset and how the information spreads and varies across users. Some categorical variables could be extracted from parsing some of the fields such as State or Device/experience used to access the platform. \n",
    "The user registration date distribution has also shown a wide distribution across the users.\n",
    "In this notebook, I will combine all the categorical features pertaining to a given users, I will add also behavioral data aggregated at session level and build the feature dataset. \n",
    "An exploration of the features with respect to churn will be done too. \n",
    "This step is preliminary to the modeling of churn prediction."
   ]
  },
  {
   "cell_type": "code",
   "execution_count": 1,
   "metadata": {},
   "outputs": [],
   "source": [
    "# import libraries\n",
    "from pyspark.sql import SparkSession\n",
    "from pyspark.sql import Window\n",
    "from pyspark.sql.functions import udf, concat, lit, col , explode, array, least, dense_rank\n",
    "from pyspark.sql.functions import isnan, when\n",
    "from pyspark.sql.functions import sum as Fsum \n",
    "from pyspark.sql.functions import min as Fmin\n",
    "from pyspark.sql.functions import max as Fmax\n",
    "from pyspark.sql.functions import unix_timestamp, to_timestamp, datediff\n",
    "from pyspark.sql.functions import avg, stddev , count\n",
    "from pyspark.sql.functions import asc, desc, log\n",
    "from pyspark.sql.types import IntegerType, StringType, DoubleType, LongType, BooleanType, TimestampType, DateType\n",
    "from pyspark.ml.feature import RegexTokenizer, VectorAssembler, MinMaxScaler\n",
    "from pyspark.ml.classification import GBTClassifier, RandomForestClassifier, LinearSVC, LogisticRegression, NaiveBayes\n",
    "from pyspark.ml.evaluation import MulticlassClassificationEvaluator, BinaryClassificationEvaluator\n",
    "from pyspark.ml import Pipeline\n",
    "from pyspark.ml.tuning import CrossValidator, ParamGridBuilder\n",
    "\n",
    "import numpy as np\n",
    "import pandas as pd \n",
    "from matplotlib import pyplot as plt \n",
    "import seaborn as sns \n",
    "import scipy.stats as sp\n",
    "from datetime import datetime as dt \n",
    "from datetime import timedelta as td\n",
    "import itertools\n",
    "import time"
   ]
  },
  {
   "cell_type": "code",
   "execution_count": 2,
   "metadata": {},
   "outputs": [],
   "source": [
    "# create a Spark session\n",
    "spark = SparkSession.builder \\\n",
    "        .master(\"local\") \\\n",
    "        .appName(\"Sparkify\") \\\n",
    "        .getOrCreate()"
   ]
  },
  {
   "cell_type": "code",
   "execution_count": 3,
   "metadata": {},
   "outputs": [],
   "source": [
    "# Utility functions\n",
    "def load_df(filename):\n",
    "    df = spark.read.json(data_path)\n",
    "    df.persist()\n",
    "    return df \n",
    "\n",
    "def drop_null_userId(df):\n",
    "    df = df.filter(\"userId <> ''\")\n",
    "    return df \n",
    "\n",
    "# Creating device type\n",
    "def get_device_type(x):\n",
    "    if 'Macintosh' in x:\n",
    "        return 'Mac'\n",
    "    elif 'Windows' in x:\n",
    "        return 'Windows'\n",
    "    elif 'Linux' in x:\n",
    "        return 'Android'\n",
    "    elif 'iPhone' in x:\n",
    "        return 'iPhone'\n",
    "    elif 'iPad' in x:\n",
    "        return 'iPad'\n",
    "    else: \n",
    "        return 'Unknown'\n",
    "\n",
    "get_device_udf = udf(lambda x:get_device_type(x), StringType())\n",
    "\n",
    "def take_last_2_char(x):\n",
    "    return x[-2:]\n",
    "take_last_2_char_udf = udf(lambda x:take_last_2_char(x), StringType())\n",
    "\n",
    "def add_columns(df):\n",
    "    df = df.withColumn('device',get_device_udf(col('userAgent')))\n",
    "    df = df.withColumn('experience',when(col('device').isin(['iPhone','iPad','Android']), 'Mobile').otherwise('Desktop'))\n",
    "    df = df.withColumn('location_state', take_last_2_char_udf(col('location')))\n",
    "    df = df.withColumn('state_group',when(~col('location_state').isin(['CA','TX','PA','FL']),'others').otherwise(col('location_state')))\n",
    "    return df \n",
    "    \n",
    "\n",
    "def clean_df(df):\n",
    "    # drop rows where userId is null\n",
    "    df = drop_null_userId(df)\n",
    "    \n",
    "    # convert timestamps fields to datetime with timestamp\n",
    "    from_ts_to_date = udf(lambda x: dt.fromtimestamp(x / 1000.0), TimestampType())\n",
    "    df = df.withColumn('registration_date', from_ts_to_date(col('registration')))\n",
    "    df = df.withColumn('event_date', from_ts_to_date(col('ts')))\n",
    "    \n",
    "    # Adding minimum and maximum timestamp of activities per user\n",
    "    df = df.withColumn('min_event_date', Fmin(col('event_date')).over(Window.partitionBy('UserId')))\n",
    "    df = df.withColumn('max_event_date', Fmax(col('event_date')).over(Window.partitionBy('UserId')))\n",
    "    \n",
    "    # Getting the corrected registration date for users starting to use the platform before registration date.\n",
    "    df = df.withColumn('registration_date_cor', least(col('registration_date'),col('min_event_date')))\n",
    "\n",
    "    # Dropping users acquired after the start of the data collection window\n",
    "    data_min_date = df.select('min_event_date').agg(Fmin('min_event_date')).collect()[0][0]\n",
    "    df = df.where(col('registration_date_cor') <= data_min_date)\n",
    "    \n",
    "    return df \n",
    "\n",
    "def save_df_to_json(df, path):\n",
    "    df.write.json(path)"
   ]
  },
  {
   "cell_type": "markdown",
   "metadata": {},
   "source": [
    "# Loading and cleaning dataset"
   ]
  },
  {
   "cell_type": "code",
   "execution_count": 4,
   "metadata": {},
   "outputs": [],
   "source": [
    "data_path = \"mini_sparkify_event_data.json\""
   ]
  },
  {
   "cell_type": "code",
   "execution_count": 5,
   "metadata": {},
   "outputs": [
    {
     "data": {
      "text/plain": [
       "DataFrame[artist: string, auth: string, firstName: string, gender: string, itemInSession: bigint, lastName: string, length: double, level: string, location: string, method: string, page: string, registration: bigint, sessionId: bigint, song: string, status: bigint, ts: bigint, userAgent: string, userId: string]"
      ]
     },
     "execution_count": 5,
     "metadata": {},
     "output_type": "execute_result"
    }
   ],
   "source": [
    "df = load_df(data_path)\n",
    "df.persist()"
   ]
  },
  {
   "cell_type": "code",
   "execution_count": 6,
   "metadata": {},
   "outputs": [
    {
     "data": {
      "text/plain": [
       "DataFrame[artist: string, auth: string, firstName: string, gender: string, itemInSession: bigint, lastName: string, length: double, level: string, location: string, method: string, page: string, registration: bigint, sessionId: bigint, song: string, status: bigint, ts: bigint, userAgent: string, userId: string, registration_date: timestamp, event_date: timestamp, min_event_date: timestamp, max_event_date: timestamp, registration_date_cor: timestamp]"
      ]
     },
     "execution_count": 6,
     "metadata": {},
     "output_type": "execute_result"
    }
   ],
   "source": [
    "df = clean_df(df)\n",
    "df.persist()"
   ]
  },
  {
   "cell_type": "code",
   "execution_count": 7,
   "metadata": {},
   "outputs": [
    {
     "data": {
      "text/plain": [
       "DataFrame[artist: string, auth: string, firstName: string, gender: string, itemInSession: bigint, lastName: string, length: double, level: string, location: string, method: string, page: string, registration: bigint, sessionId: bigint, song: string, status: bigint, ts: bigint, userAgent: string, userId: string, registration_date: timestamp, event_date: timestamp, min_event_date: timestamp, max_event_date: timestamp, registration_date_cor: timestamp, device: string, experience: string, location_state: string, state_group: string]"
      ]
     },
     "execution_count": 7,
     "metadata": {},
     "output_type": "execute_result"
    }
   ],
   "source": [
    "df = add_columns(df)\n",
    "df.persist()"
   ]
  },
  {
   "cell_type": "code",
   "execution_count": 8,
   "metadata": {},
   "outputs": [
    {
     "data": {
      "text/plain": [
       "220"
      ]
     },
     "execution_count": 8,
     "metadata": {},
     "output_type": "execute_result"
    }
   ],
   "source": [
    "df.select('userId').dropDuplicates().count()"
   ]
  },
  {
   "cell_type": "markdown",
   "metadata": {},
   "source": [
    "# Feature extraction"
   ]
  },
  {
   "cell_type": "code",
   "execution_count": 9,
   "metadata": {},
   "outputs": [],
   "source": [
    "# Creating the user list\n",
    "features = df.select('userId').dropDuplicates()"
   ]
  },
  {
   "cell_type": "markdown",
   "metadata": {},
   "source": [
    "## Categorical features"
   ]
  },
  {
   "cell_type": "markdown",
   "metadata": {},
   "source": [
    "### Gender"
   ]
  },
  {
   "cell_type": "code",
   "execution_count": 10,
   "metadata": {},
   "outputs": [],
   "source": [
    "gender = df.select('userId','gender')\\\n",
    "            .dropDuplicates()\\\n",
    "            .withColumn('gender_flag', when(col('gender')=='F',1).otherwise(0))\\\n",
    "            .drop('gender')\\\n",
    "            .withColumnRenamed('gender_flag','gender')\n",
    "features = features.join(gender,on=['userId'], how='left')"
   ]
  },
  {
   "cell_type": "markdown",
   "metadata": {},
   "source": [
    "# Feature extraction"
   ]
  },
  {
   "cell_type": "markdown",
   "metadata": {},
   "source": [
    "### List of features to build\n",
    "Over first X days of activity with X in [7, 14, 21], let's try to predict churn with the following features: \n",
    "- gender\n",
    "- total number of active days\n",
    "- total number of sessions\n",
    "- total number of songs\n",
    "- total listening length\n",
    "- total number of thumbs-up\n",
    "- total number of thumbs-down\n",
    "- number of paid sessions\n",
    "- total length of paid sessions\n",
    "- number of free sessions\n",
    "- total length of free sessions\n",
    "- index free vs paid session \n",
    "- number of upgrades \n",
    "- number of downgrades \n",
    "- number of added friends\n",
    "- number of errors\n",
    "- number of help page visits \n",
    "- number of settings page visit"
   ]
  },
  {
   "cell_type": "code",
   "execution_count": 11,
   "metadata": {},
   "outputs": [],
   "source": [
    "# adding \n",
    "data_max_date = df.select('event_date').agg(Fmax('event_date')).collect()[0][0]\n",
    "df = df.withColumn('active_day', col(\"event_date\").cast(DateType()))\n",
    "df = df.withColumn('tenure',datediff(lit(data_max_date), col('registration_date_cor')))"
   ]
  },
  {
   "cell_type": "code",
   "execution_count": 12,
   "metadata": {},
   "outputs": [],
   "source": [
    "# tenure \n",
    "tenure = df.select('userId','tenure').dropDuplicates()\n",
    "features = features.join(tenure,on=['userId'], how='left')"
   ]
  },
  {
   "cell_type": "code",
   "execution_count": 14,
   "metadata": {},
   "outputs": [],
   "source": [
    "# number of active days \n",
    "active_days = df.select('userId','active_day')\\\n",
    "                    .dropDuplicates()\\\n",
    "                    .groupby('userId')\\\n",
    "                    .count()\\\n",
    "                    .withColumnRenamed(\"count\", \"active_days_count\")\n",
    "features = features.join(active_days,on=['userId'], how='left')"
   ]
  },
  {
   "cell_type": "code",
   "execution_count": 15,
   "metadata": {},
   "outputs": [],
   "source": [
    "# total number of sessions\n",
    "session_count_per_user = df.select('userId','sessionId')\\\n",
    "                                .dropDuplicates()\\\n",
    "                                .groupby('userId')\\\n",
    "                                .count()\\\n",
    "                                .withColumnRenamed(\"count\", \"session_count\")\n",
    "features = features.join(session_count_per_user,on=['userId'], how='left')"
   ]
  },
  {
   "cell_type": "code",
   "execution_count": 16,
   "metadata": {},
   "outputs": [],
   "source": [
    "# total number of songs per user\n",
    "song_count_per_user = df.select('userId','active_day','song')\\\n",
    "                                .dropDuplicates()\\\n",
    "                                .groupby('userId')\\\n",
    "                                .count()\\\n",
    "                                .withColumnRenamed(\"count\", \"song_count\")\n",
    "features = features.join(song_count_per_user,on=['userId'], how='left')"
   ]
  },
  {
   "cell_type": "code",
   "execution_count": 17,
   "metadata": {},
   "outputs": [],
   "source": [
    "# total length of active sessions\n",
    "total_length = df.select('userId','length')\\\n",
    "                                .groupby('userId')\\\n",
    "                                .sum()\\\n",
    "                                .withColumnRenamed(\"sum(length)\", \"total_length\")\n",
    "features = features.join(total_length,on=['userId'], how='left')"
   ]
  },
  {
   "cell_type": "code",
   "execution_count": 19,
   "metadata": {},
   "outputs": [],
   "source": [
    "# number of paid sessions\n",
    "paid_sessions = df.select('userId', 'sessionId')\\\n",
    "                        .where(df.level == 'paid')\\\n",
    "                        .groupBy('userId')\\\n",
    "                        .count() \\\n",
    "                        .withColumnRenamed('count', 'paid_sessions')\n",
    "features = features.join(paid_sessions,on=['userId'], how='left')"
   ]
  },
  {
   "cell_type": "code",
   "execution_count": 20,
   "metadata": {},
   "outputs": [],
   "source": [
    "# length of paid sessions\n",
    "paid_sessions_length = df.select('userId', 'length')\\\n",
    "                        .where(df.level == 'paid')\\\n",
    "                        .groupBy('userId')\\\n",
    "                        .sum() \\\n",
    "                        .withColumnRenamed('sum(length)', 'paid_sessions_length')\n",
    "features = features.join(paid_sessions_length,on=['userId'], how='left')"
   ]
  },
  {
   "cell_type": "code",
   "execution_count": 21,
   "metadata": {},
   "outputs": [],
   "source": [
    "# number of free sessions\n",
    "free_sessions = df.select('userId', 'sessionId')\\\n",
    "                        .where(df.level == 'free')\\\n",
    "                        .groupBy('userId')\\\n",
    "                        .count() \\\n",
    "                        .withColumnRenamed('count', 'free_sessions')\n",
    "features = features.join(free_sessions,on=['userId'], how='left')"
   ]
  },
  {
   "cell_type": "code",
   "execution_count": 22,
   "metadata": {},
   "outputs": [],
   "source": [
    "# length of free sessions\n",
    "free_sessions_length = df.select('userId', 'length')\\\n",
    "                        .where(df.level == 'free')\\\n",
    "                        .groupBy('userId')\\\n",
    "                        .sum() \\\n",
    "                        .withColumnRenamed('sum(length)', 'free_sessions_length')\n",
    "features = features.join(free_sessions_length,on=['userId'], how='left')"
   ]
  },
  {
   "cell_type": "code",
   "execution_count": 23,
   "metadata": {},
   "outputs": [],
   "source": [
    "# paid_session share\n",
    "paid_session_share = paid_sessions.join(session_count_per_user, on=['userId'], how='left')\\\n",
    "                            .withColumn('paid_session_share',col('paid_sessions')/col('session_count'))\\\n",
    "                            .select('userId','paid_session_share')\n",
    "features = features.join(paid_session_share,on=['userId'], how='left')"
   ]
  },
  {
   "cell_type": "code",
   "execution_count": 24,
   "metadata": {},
   "outputs": [
    {
     "data": {
      "text/plain": [
       "DataFrame[userId: string, About: bigint, Add Friend: bigint, Add to Playlist: bigint, Downgrade: bigint, Error: bigint, Help: bigint, Home: bigint, Logout: bigint, NextSong: bigint, Roll Advert: bigint, Save Settings: bigint, Settings: bigint, Submit Downgrade: bigint, Submit Upgrade: bigint, Thumbs Down: bigint, Thumbs Up: bigint, Upgrade: bigint]"
      ]
     },
     "execution_count": 24,
     "metadata": {},
     "output_type": "execute_result"
    }
   ],
   "source": [
    "# page usage \n",
    "page_count = df.select(\"userId\", \"page\").groupBy(\"userId\").pivot(\"page\") \\\n",
    "    .count().drop(\"Cancel\", \"Cancellation Confirmation\").fillna(0)\n",
    "page_count.persist()"
   ]
  },
  {
   "cell_type": "code",
   "execution_count": 25,
   "metadata": {},
   "outputs": [],
   "source": [
    "features = features.join(page_count, on=['userId'], how='left')"
   ]
  },
  {
   "cell_type": "code",
   "execution_count": 26,
   "metadata": {},
   "outputs": [],
   "source": [
    "df = df.withColumn('churn', when(df.page == 'Cancellation Confirmation', 1)\\\n",
    "                       .otherwise(0))\n",
    "df = df.withColumn('user_churn_flag', Fmax('churn').over(Window.partitionBy('UserId')))\n",
    "label = df.select('userId','user_churn_flag').dropDuplicates()"
   ]
  },
  {
   "cell_type": "code",
   "execution_count": 27,
   "metadata": {},
   "outputs": [],
   "source": [
    "features = features.na.fill(0)\n",
    "final_dataset = features.join(label,on=['userId'],how='left')"
   ]
  },
  {
   "cell_type": "code",
   "execution_count": 28,
   "metadata": {},
   "outputs": [],
   "source": [
    "save_df_to_json(final_dataset,'mini_sparkify_features.json')"
   ]
  },
  {
   "cell_type": "code",
   "execution_count": 31,
   "metadata": {},
   "outputs": [
    {
     "name": "stdout",
     "output_type": "stream",
     "text": [
      "+------+------+------+-----------------+-------------+----------+------------------+------------------+\n",
      "|userId|gender|tenure|active_days_count|session_count|song_count|      total_length|paid_session_share|\n",
      "+------+------+------+-----------------+-------------+----------+------------------+------------------+\n",
      "|100010|     1|    67|                7|            7|       281| 66940.89735000003|               0.0|\n",
      "|200002|     0|    88|                8|            6|       393| 94008.87593999993|              59.0|\n",
      "|   125|     0|   124|                1|            1|         9|2089.1131000000005|               0.0|\n",
      "|   124|     1|   134|               36|           29|      4037|1012312.0927899999| 166.3793103448276|\n",
      "|    51|     0|    67|               14|           10|      2074| 523275.8428000004|             246.4|\n",
      "+------+------+------+-----------------+-------------+----------+------------------+------------------+\n",
      "only showing top 5 rows\n",
      "\n"
     ]
    }
   ],
   "source": [
    "final_dataset.select('userId','gender','tenure','active_days_count','session_count','song_count','total_length','paid_session_share').show(5)"
   ]
  },
  {
   "cell_type": "code",
   "execution_count": null,
   "metadata": {},
   "outputs": [],
   "source": [
    "users_to_check = ['','','','']"
   ]
  },
  {
   "cell_type": "code",
   "execution_count": null,
   "metadata": {},
   "outputs": [],
   "source": [
    "df.filter(col('userId').isin(users_to_check)).show(100)"
   ]
  },
  {
   "cell_type": "code",
   "execution_count": null,
   "metadata": {},
   "outputs": [],
   "source": [
    "#### TO CHECK IF NEEDED\n",
    "\n",
    "if 1==1:\n",
    "\n",
    "    features = [] \n",
    "    # df = df.withColumn('tenure',datediff(col('event_date'), col('registration_date_cor')))\n",
    "    df = df.withColumn('active_day', col(\"event_date\").cast(DateType()))\n",
    "    data_min_date = df.select('event_date').agg(Fmin('event_date')).collect()[0][0]\n",
    "    \n",
    "    # tenure at start of data collection\n",
    "    tenure = df.select('userId','registration_date_cor')\\\n",
    "                .dropDuplicates()\\\n",
    "                .withColumn('tenure', datediff(lit(data_min_date).cast(TimestampType()), col('registration_date_cor')))\\\n",
    "                .select('userId','tenure')\n",
    "    features.append(tenure)\n",
    "    \n",
    "    #gender\n",
    "    gender = df.select('userId','gender')\\\n",
    "                .dropDuplicates()\\\n",
    "                .withColumn('gender_flag',when(col('gender')=='F',1).otherwise(0))\\\n",
    "                .drop('gender')\\\n",
    "                .withColumnRenamed('gender_flag','gender')\n",
    "    features.append(gender)\n",
    "    \n",
    "    # number of active days over data collection window \n",
    "    active_days = df.select('userId','active_day')\\\n",
    "                    .dropDuplicates()\\\n",
    "                    .groupby('userId')\\\n",
    "                    .count()\\\n",
    "                    .withColumnRenamed(\"count\", \"active_days_count\")\n",
    "    features.append(active_days)\n",
    "    \n",
    "    # session count per active days\n",
    "    session_count_per_user = df.select('userId','sessionId')\\\n",
    "                                .dropDuplicates()\\\n",
    "                                .groupby('userId')\\\n",
    "                                .count()\\\n",
    "                                .withColumnRenamed(\"count\", \"session_count\")\n",
    "\n",
    "    session_per_active_days = session_count_per_user\\\n",
    "                                .join(active_days, \"userId\")\\\n",
    "                                .withColumn(\"session_count_per_active_days\", (col(\"session_count\") / col(\"active_days_count\")))\\\n",
    "                                .drop(\"active_days_count\")\\\n",
    "                                .drop(\"session_count\")\n",
    "    features.append(session_per_active_days)\n",
    "    \n",
    "    # average number of distinct songs per session\n",
    "    song_count_per_user = df.select('userId','active_day','song')\\\n",
    "                                .dropDuplicates()\\\n",
    "                                .groupby('userId')\\\n",
    "                                .count()\\\n",
    "                                .withColumnRenamed(\"count\", \"song_count\")\n",
    "    \n",
    "    songs_per_session = song_count_per_user\\\n",
    "                                .join(session_count_per_user, \"userId\")\\\n",
    "                                .withColumn(\"song_count_per_sessions\", (col(\"song_count\") / col(\"session_count\")))\\\n",
    "                                .drop(\"song_count\")\\\n",
    "                                .drop(\"session_count\")\n",
    "    features.append(songs_per_session)\n",
    "    \n",
    "    # average session length\n",
    "    total_length = df.select('userId','length')\\\n",
    "                                .groupby('userId')\\\n",
    "                                .sum()\\\n",
    "                                .withColumnRenamed(\"sum(length)\", \"total_length\")\n",
    "   \n",
    "    session_length = total_length\\\n",
    "                        .join(session_count_per_user,'userId')\\\n",
    "                        .withColumn(\"session_length\", (col(\"total_length\") / col(\"session_count\")))\\\n",
    "                        .drop(\"total_length\")\\\n",
    "                        .drop(\"session_count\")\n",
    "    features.append(session_length)\n",
    "    \n",
    "    # paid sessions share per user\n",
    "    paid_sessions = df.select('userId', 'sessionId')\\\n",
    "                        .where(df.level == 'paid')\\\n",
    "                        .groupBy('userId')\\\n",
    "                        .count() \\\n",
    "                        .withColumnRenamed('count', 'paid_sessions')\n",
    "    \n",
    "    paid_sessions_share = paid_sessions\\\n",
    "                        .join(session_count_per_user,'userId')\\\n",
    "                        .withColumn(\"paid_session_share\", (col(\"paid_sessions\") / col(\"session_count\")))\\\n",
    "                        .drop(\"paid_sessions\")\\\n",
    "                        .drop(\"session_count\")\n",
    "    features.append(paid_sessions_share)\n",
    "\n",
    "    # paid sessions average length \n",
    "    paid_sessions_total_length = df.select('userId', 'length')\\\n",
    "                        .where(df.level == 'paid')\\\n",
    "                        .groupBy('userId')\\\n",
    "                        .sum() \\\n",
    "                        .withColumnRenamed('sum(length)', 'paid_sessions_length')\n",
    "   \n",
    "    paid_session_length = paid_sessions_total_length\\\n",
    "                        .join(paid_sessions,'userId')\\\n",
    "                        .withColumn(\"paid_session_length\", (col(\"paid_sessions_length\") / col(\"paid_sessions\")))\\\n",
    "                        .drop(\"paid_sessions_length\")\\\n",
    "                        .drop(\"paid_sessions\")\n",
    "    features.append(paid_session_length)\n",
    "    \n",
    "    # free sessions share per user\n",
    "    free_sessions = df.select('userId', 'sessionId')\\\n",
    "                        .where(df.level == 'free')\\\n",
    "                        .groupBy('userId')\\\n",
    "                        .count() \\\n",
    "                        .withColumnRenamed('count', 'free_sessions')\n",
    "    \n",
    "    free_sessions_share = free_sessions\\\n",
    "                        .join(session_count_per_user,'userId')\\\n",
    "                        .withColumn(\"free_session_share\", (col(\"free_sessions\") / col(\"session_count\")))\\\n",
    "                        .drop(\"free_sessions\")\\\n",
    "                        .drop(\"session_count\")\n",
    "    features.append(free_sessions_share)\n",
    "\n",
    "    # free sessions average length \n",
    "    free_sessions_total_length = df.select('userId', 'length')\\\n",
    "                        .where(df.level == 'free')\\\n",
    "                        .groupBy('userId')\\\n",
    "                        .sum() \\\n",
    "                        .withColumnRenamed('sum(length)', 'free_sessions_length')\n",
    "\n",
    "    free_session_length = free_sessions_total_length\\\n",
    "                        .join(free_sessions,'userId')\\\n",
    "                        .withColumn(\"free_session_length\", (col(\"free_sessions_length\") / col(\"free_sessions\")))\\\n",
    "                        .drop(\"free_sessions_length\")\\\n",
    "                        .drop(\"free_sessions\")\n",
    "    features.append(free_session_length)"
   ]
  },
  {
   "cell_type": "markdown",
   "metadata": {},
   "source": [
    "# Feature transformation and scaling"
   ]
  },
  {
   "cell_type": "code",
   "execution_count": 65,
   "metadata": {},
   "outputs": [
    {
     "data": {
      "image/png": "[encoded data removed]",
      "text/plain": [
       "<Figure size 1080x720 with 18 Axes>"
      ]
     },
     "metadata": {
      "needs_background": "light"
     },
     "output_type": "display_data"
    }
   ],
   "source": [
    "# Check feature distributions to choose correct scaling \n",
    "features = feature_dataset.columns[1:]\n",
    "feature_count = len(features)\n",
    "ny = 3\n",
    "nx, r = divmod(feature_count, ny)\n",
    "if r != 0:\n",
    "    nx = nx+ 1\n",
    "indices = list(itertools.product(range(nx), range(ny)))\n",
    "fig, ax = plt.subplots(nx,ny, figsize = [15,10])\n",
    "\n",
    "for i,f in enumerate(features):\n",
    "    ix, iy = indices[i]\n",
    "    feature = final_dataset.select(f,'user_churn_flag').toPandas()\n",
    "    axi = ax[ix][iy]\n",
    "    sns.histplot(feature,x=f, hue='user_churn_flag', ax = axi, hue_order=[1,0])\n",
    "    #axi.set_title(f)\n",
    "    plt.tight_layout()"
   ]
  },
  {
   "cell_type": "code",
   "execution_count": 16,
   "metadata": {},
   "outputs": [],
   "source": [
    "# Feature scaling \n",
    "def feature_scaling(df):\n",
    "    \n",
    "    # extract feature names\n",
    "    features = df.columns[1:-1]\n",
    "    \n",
    "    # apply logarithm transformation\n",
    "    df_log = df.select('userId', *[log(col(col_name)+lit(1)).alias(col_name) for col_name in features],'user_churn_flag')\n",
    "    \n",
    "    # assemble features in a vector\n",
    "    assembler = VectorAssembler(inputCols=df_log.columns[1:-1], outputCol=\"FeatureVec\")\n",
    "    df_log_vec = assembler.transform(df_log)\n",
    "    df_log_vec = df_log_vec.select(col(\"FeatureVec\").alias(\"features\"),col('user_churn_flag').alias('label'))\n",
    "    \n",
    "    # scale features\n",
    "    min_max_scaler = MinMaxScaler(inputCol = \"features\", outputCol = \"FeatureVecScaled\")\n",
    "    scalerModel = min_max_scaler.fit(df_log_vec)\n",
    "    df_scaled = scalerModel.transform(df_log_vec)\n",
    "    df_scaled = df_scaled.select(col(\"FeatureVecScaled\").alias(\"features\"),col('label'))\n",
    "    \n",
    "    return df_scaled"
   ]
  },
  {
   "cell_type": "code",
   "execution_count": 17,
   "metadata": {},
   "outputs": [],
   "source": [
    "final_scaled = feature_scaling(final_dataset)"
   ]
  },
  {
   "cell_type": "code",
   "execution_count": 18,
   "metadata": {},
   "outputs": [
    {
     "data": {
      "text/plain": [
       "DataFrame[features: vector, label: int]"
      ]
     },
     "execution_count": 18,
     "metadata": {},
     "output_type": "execute_result"
    }
   ],
   "source": [
    "final_scaled.persist()"
   ]
  },
  {
   "cell_type": "code",
   "execution_count": 19,
   "metadata": {},
   "outputs": [
    {
     "name": "stdout",
     "output_type": "stream",
     "text": [
      "root\n",
      " |-- features: vector (nullable = true)\n",
      " |-- label: integer (nullable = true)\n",
      "\n"
     ]
    }
   ],
   "source": [
    "final_scaled.printSchema()"
   ]
  },
  {
   "cell_type": "code",
   "execution_count": 20,
   "metadata": {},
   "outputs": [
    {
     "name": "stdout",
     "output_type": "stream",
     "text": [
      "+--------------------+-----+\n",
      "|            features|label|\n",
      "+--------------------+-----+\n",
      "|[1.0,0.4056188482...|    0|\n",
      "|[0.0,0.4400812399...|    0|\n",
      "|[0.0,0.0,0.0,0.09...|    1|\n",
      "|[1.0,0.8537168130...|    0|\n",
      "|[0.0,0.5895448077...|    1|\n",
      "|[0.0,0.4056188482...|    0|\n",
      "|[0.0,0.6587103086...|    0|\n",
      "|[1.0,0.8112376965...|    1|\n",
      "|[1.0,0.4400812399...|    0|\n",
      "|[0.0,0.3665486109...|    1|\n",
      "|[1.0,0.7146115712...|    0|\n",
      "|[1.0,0.2028094241...|    0|\n",
      "|[0.0,0.5693580350...|    1|\n",
      "|[1.0,0.6261665608...|    0|\n",
      "|[0.0,0.6737183239...|    0|\n",
      "|[1.0,0.9418177996...|    0|\n",
      "|[0.0,0.3214453320...|    1|\n",
      "|[0.0,0.7923542318...|    1|\n",
      "|[1.0,0.5476746241...|    0|\n",
      "|[0.0,0.4400812399...|    0|\n",
      "+--------------------+-----+\n",
      "only showing top 20 rows\n",
      "\n"
     ]
    }
   ],
   "source": [
    "final_scaled.show()"
   ]
  },
  {
   "cell_type": "code",
   "execution_count": 21,
   "metadata": {},
   "outputs": [
    {
     "name": "stdout",
     "output_type": "stream",
     "text": [
      "+------------------+\n",
      "|        avg(label)|\n",
      "+------------------+\n",
      "|0.2311111111111111|\n",
      "+------------------+\n",
      "\n"
     ]
    }
   ],
   "source": [
    "# Churn proportion on full dataset\n",
    "final_scaled.select('label').agg(avg('label')).show()"
   ]
  },
  {
   "cell_type": "code",
   "execution_count": 22,
   "metadata": {},
   "outputs": [],
   "source": [
    "# Split training and validation datasets\n",
    "training_dataset, validation_dataset = final_scaled.randomSplit([0.8,0.2])"
   ]
  },
  {
   "cell_type": "code",
   "execution_count": 23,
   "metadata": {},
   "outputs": [
    {
     "name": "stdout",
     "output_type": "stream",
     "text": [
      "+-------------------+\n",
      "|         avg(label)|\n",
      "+-------------------+\n",
      "|0.24719101123595505|\n",
      "+-------------------+\n",
      "\n"
     ]
    }
   ],
   "source": [
    "# Churn proportion on training dataset\n",
    "training_dataset.select('label').agg(avg('label')).show()"
   ]
  },
  {
   "cell_type": "code",
   "execution_count": 24,
   "metadata": {},
   "outputs": [
    {
     "name": "stdout",
     "output_type": "stream",
     "text": [
      "+------------------+\n",
      "|        avg(label)|\n",
      "+------------------+\n",
      "|0.1702127659574468|\n",
      "+------------------+\n",
      "\n"
     ]
    }
   ],
   "source": [
    "# Churn proportion on validation dataset\n",
    "validation_dataset.select('label').agg(avg('label')).show()"
   ]
  },
  {
   "cell_type": "markdown",
   "metadata": {},
   "source": [
    "Let's create a balanced dataset out of the training datset in order to train the models"
   ]
  },
  {
   "cell_type": "code",
   "execution_count": 25,
   "metadata": {},
   "outputs": [],
   "source": [
    "# Balance modelling dataset to have same proportion of churning vs non-churning customers\n",
    "churned = training_dataset.select('label').where(col('label')==1).count()\n",
    "not_churned = training_dataset.select('label').where(col('label')==0).count()\n",
    "ratio = int(not_churned/churned)\n",
    "a = range(ratio)\n",
    "# duplicate the minority rows\n",
    "minor_df = training_dataset.where(col('label')==1)\n",
    "major_df = training_dataset.where(col('label')==0)\n",
    "oversampled_df = minor_df.withColumn(\"dummy\", explode(array([lit(x) for x in a]))).drop('dummy')\n",
    "#combine both oversampled minority rows and previous majority rows \n",
    "combined_df = major_df.unionAll(oversampled_df)"
   ]
  },
  {
   "cell_type": "code",
   "execution_count": 26,
   "metadata": {},
   "outputs": [],
   "source": [
    "balanced_training_dataset = combined_df"
   ]
  },
  {
   "cell_type": "markdown",
   "metadata": {},
   "source": [
    "# Modeling"
   ]
  },
  {
   "cell_type": "code",
   "execution_count": 27,
   "metadata": {},
   "outputs": [],
   "source": [
    "model_names = []\n",
    "metrics_valid = dict()"
   ]
  },
  {
   "cell_type": "code",
   "execution_count": 28,
   "metadata": {},
   "outputs": [],
   "source": [
    "def report_results(model, results_valid, train_time_start, train_time_end):\n",
    "    \n",
    "    evaluator = MulticlassClassificationEvaluator(predictionCol='prediction')\n",
    "    evaluator.setLabelCol('label')\n",
    "    metrics = [\"weightedRecall\",\"weightedPrecision\", \"accuracy\", \"f1\" ]\n",
    "    #metrics_test = []\n",
    "    metrics_valid = []\n",
    "    \n",
    "    for m in metrics: \n",
    "        metric_valid_output = evaluator.evaluate(results_valid, {evaluator.metricName : m})\n",
    "        metrics_valid.append(metric_valid_output)\n",
    "    \n",
    "    train_time = (train_time_end-train_time_start)/60\n",
    "    \n",
    "    print(model)\n",
    "    print('Total training time: {} minutes'.format((train_time_end-train_time_start)/60))\n",
    "    print(10*'==')\n",
    "    print('Results on validation dataset')\n",
    "    print(10*'-')\n",
    "    print('Recall: {}'.format(metrics_valid[0]))\n",
    "    print('Precision: {}'.format(metrics_valid[1]))\n",
    "    print('Accuracy: {}'.format(metrics_valid[2]))\n",
    "    print('F-1 Score: {}'.format(metrics_valid[3]))\n",
    "    \n",
    "    return metrics_valid, train_time\n",
    "    "
   ]
  },
  {
   "cell_type": "markdown",
   "metadata": {},
   "source": [
    "### Baseline model: nobody churns"
   ]
  },
  {
   "cell_type": "code",
   "execution_count": 29,
   "metadata": {},
   "outputs": [],
   "source": [
    "model_name = 'Baseline'\n",
    "model_names.append(model_name)\n",
    "bl_results_valid = validation_dataset.withColumn('prediction',lit(0).cast(DoubleType())) "
   ]
  },
  {
   "cell_type": "code",
   "execution_count": 30,
   "metadata": {},
   "outputs": [
    {
     "name": "stdout",
     "output_type": "stream",
     "text": [
      "Baseline\n",
      "Total training time: 0.0 minutes\n",
      "====================\n",
      "Results on validation dataset\n",
      "----------\n",
      "Recall: 0.8297872340425532\n",
      "Precision: 0.688546853779991\n",
      "Accuracy: 0.8297872340425532\n",
      "F-1 Score: 0.7525977238990599\n"
     ]
    }
   ],
   "source": [
    "bl_metrics_valid, bl_train_time = report_results(model_name, bl_results_valid, 0, 0)\n",
    "metrics_valid[model_name] = bl_metrics_valid+[bl_train_time]"
   ]
  },
  {
   "cell_type": "code",
   "execution_count": 31,
   "metadata": {},
   "outputs": [],
   "source": [
    "def get_precision_recall(results_valid):\n",
    "    true_positives = results_valid.where(col('prediction') == 1.0).where( col('label') == 1).count()\n",
    "    false_positives = results_valid.where(col('prediction') == 1.0).where( col('label') == 0).count()\n",
    "    false_negatives = results_valid.where(col('prediction') == 0.0).where( col('label') == 1).count()\n",
    "    true_negatives = results_valid.where(col('prediction') == 0.0).where(col('label') == 0).count()\n",
    "    \n",
    "    if false_positives+true_positives == 0:\n",
    "        precision = 'no user labelled churning'\n",
    "    else:\n",
    "        precision = true_positives/(false_positives+true_positives)\n",
    "    recall = true_positives/(false_negatives+true_positives)\n",
    "    print('precision: {}\\nrecall: {}'.format(precision,recall))\n",
    "    return precision, recall"
   ]
  },
  {
   "cell_type": "code",
   "execution_count": 32,
   "metadata": {},
   "outputs": [
    {
     "name": "stdout",
     "output_type": "stream",
     "text": [
      "precision: no user labelled churning\n",
      "recall: 0.0\n"
     ]
    }
   ],
   "source": [
    "p,r = get_precision_recall(bl_results_valid)"
   ]
  },
  {
   "cell_type": "markdown",
   "metadata": {},
   "source": [
    "### Logistic Regression"
   ]
  },
  {
   "cell_type": "code",
   "execution_count": 34,
   "metadata": {},
   "outputs": [],
   "source": [
    "model_name = 'Logistic Regression'\n",
    "numFolds = 3\n",
    "lr = LogisticRegression(maxIter=10, labelCol='label', featuresCol='features')\n",
    "evaluator = MulticlassClassificationEvaluator(labelCol='label')\n",
    "\n",
    "pipeline = Pipeline(stages=[lr])\n",
    "lr_paramGrid = (ParamGridBuilder()\n",
    "                .addGrid(lr.regParam, [0.1, 0.01, 0.001])\n",
    "                .build())\n",
    "\n",
    "crossval = CrossValidator(\n",
    "    estimator=pipeline,\n",
    "    estimatorParamMaps=lr_paramGrid,\n",
    "    evaluator=evaluator,\n",
    "    numFolds=numFolds)\n",
    "\n",
    "lr_start = time.time()\n",
    "lr_model = crossval.fit(balanced_training_dataset)\n",
    "lr_end = time.time()"
   ]
  },
  {
   "cell_type": "code",
   "execution_count": 35,
   "metadata": {},
   "outputs": [
    {
     "name": "stdout",
     "output_type": "stream",
     "text": [
      "Logistic Regression\n",
      "Total training time: 22.71501404841741 minutes\n",
      "====================\n",
      "Results on validation dataset\n",
      "----------\n",
      "Recall: 0.6170212765957447\n",
      "Precision: 0.7801418439716311\n",
      "Accuracy: 0.6170212765957447\n",
      "F-1 Score: 0.6642718983144517\n"
     ]
    }
   ],
   "source": [
    "model_name = 'Logistic Regression'\n",
    "model_names.append(model_name)\n",
    "lr_results_valid = lr_model.transform(validation_dataset)\n",
    "lr_metrics_valid, lr_train_time = report_results(model_name, lr_results_valid, lr_start, lr_end)\n",
    "metrics_valid[model_name] = lr_metrics_valid+[lr_train_time]"
   ]
  },
  {
   "cell_type": "code",
   "execution_count": 36,
   "metadata": {},
   "outputs": [
    {
     "name": "stdout",
     "output_type": "stream",
     "text": [
      "precision: 0.25\n",
      "recall: 0.625\n"
     ]
    }
   ],
   "source": [
    "p,r = get_precision_recall(lr_results_valid)"
   ]
  },
  {
   "cell_type": "markdown",
   "metadata": {},
   "source": [
    "### Random Forest"
   ]
  },
  {
   "cell_type": "code",
   "execution_count": 37,
   "metadata": {},
   "outputs": [],
   "source": [
    "model_name = 'Random Forest'\n",
    "numFolds = 2\n",
    "rf = RandomForestClassifier(labelCol='label', featuresCol='features')\n",
    "evaluator = MulticlassClassificationEvaluator(labelCol='label')\n",
    "\n",
    "pipeline = Pipeline(stages=[rf])\n",
    "rf_paramGrid = (ParamGridBuilder()\n",
    "                .addGrid(rf.numTrees, [10, 30, 50])\n",
    "                .addGrid(rf.maxDepth, [10,20])\n",
    "                .addGrid(rf.subsamplingRate, [1])\n",
    "                .build())\n",
    "\n",
    "crossval = CrossValidator(\n",
    "    estimator=pipeline,\n",
    "    estimatorParamMaps=rf_paramGrid,\n",
    "    evaluator=evaluator,\n",
    "    numFolds=numFolds)\n",
    "\n",
    "rf_start = time.time()\n",
    "rf_model = crossval.fit(balanced_training_dataset)\n",
    "rf_end = time.time()"
   ]
  },
  {
   "cell_type": "code",
   "execution_count": 38,
   "metadata": {},
   "outputs": [
    {
     "name": "stdout",
     "output_type": "stream",
     "text": [
      "Random Forest\n",
      "Total training time: 43.09783849716187 minutes\n",
      "====================\n",
      "Results on validation dataset\n",
      "----------\n",
      "Recall: 0.7872340425531915\n",
      "Precision: 0.6822695035460992\n",
      "Accuracy: 0.7872340425531915\n",
      "F-1 Score: 0.7310030395136777\n"
     ]
    }
   ],
   "source": [
    "model_name = 'Random Forest'\n",
    "model_names.append(model_name)\n",
    "rf_results_valid = rf_model.transform(validation_dataset)\n",
    "rf_metrics_valid, rf_train_time =report_results(model_name, rf_results_valid, rf_start, rf_end)\n",
    "metrics_valid[model_name] = rf_metrics_valid+[rf_train_time]"
   ]
  },
  {
   "cell_type": "code",
   "execution_count": 40,
   "metadata": {},
   "outputs": [
    {
     "name": "stdout",
     "output_type": "stream",
     "text": [
      "Best model for number of trees: 50 and max depth 20\n"
     ]
    }
   ],
   "source": [
    "nt, md, si = list(rf_model.getEstimatorParamMaps()[np.argmax(rf_model.avgMetrics)].values())\n",
    "print('Best model for number of trees: {} and max depth {}'.format(nt,md))"
   ]
  },
  {
   "cell_type": "code",
   "execution_count": 41,
   "metadata": {},
   "outputs": [
    {
     "name": "stdout",
     "output_type": "stream",
     "text": [
      "precision: 0.0\n",
      "recall: 0.0\n"
     ]
    }
   ],
   "source": [
    "p,r = get_precision_recall(rf_results_valid)"
   ]
  },
  {
   "cell_type": "markdown",
   "metadata": {},
   "source": [
    "### Gradient Boosted Trees"
   ]
  },
  {
   "cell_type": "code",
   "execution_count": 48,
   "metadata": {},
   "outputs": [],
   "source": [
    "model_name = 'Gradient Boosted Trees'\n",
    "numFolds = 3\n",
    "gbt = GBTClassifier(labelCol='label', featuresCol='features')\n",
    "evaluator = MulticlassClassificationEvaluator(labelCol='label')\n",
    "\n",
    "pipeline = Pipeline(stages=[gbt])\n",
    "gbt_paramGrid = (ParamGridBuilder()\n",
    "                 .addGrid(gbt.maxIter, [10,20])\n",
    "                 .addGrid(gbt.maxDepth, [10,20])\n",
    "                 .build())\n",
    "\n",
    "crossval = CrossValidator(\n",
    "    estimator=pipeline,\n",
    "    estimatorParamMaps=gbt_paramGrid,\n",
    "    evaluator=evaluator,\n",
    "    numFolds=numFolds)\n",
    "\n",
    "gbt_start = time.time()\n",
    "gbt_model = crossval.fit(balanced_training_dataset)\n",
    "gbt_end = time.time()"
   ]
  },
  {
   "cell_type": "code",
   "execution_count": 49,
   "metadata": {},
   "outputs": [
    {
     "name": "stdout",
     "output_type": "stream",
     "text": [
      "Gradient Boosted Trees\n",
      "Total training time: 587.7982557972272 minutes\n",
      "====================\n",
      "Results on validation dataset\n",
      "----------\n",
      "Recall: 0.6382978723404256\n",
      "Precision: 0.7341755319148937\n",
      "Accuracy: 0.6382978723404256\n",
      "F-1 Score: 0.675509113887767\n"
     ]
    }
   ],
   "source": [
    "model_name = 'Gradient Boosted Trees'\n",
    "model_names.append(model_name)\n",
    "gbt_results_valid = gbt_model.transform(validation_dataset)\n",
    "gbt_metrics_valid, gbt_train_time = report_results(model_name, gbt_results_valid, gbt_start, gbt_end)\n",
    "metrics_valid[model_name] = gbt_metrics_valid+[gbt_train_time]"
   ]
  },
  {
   "cell_type": "code",
   "execution_count": 50,
   "metadata": {},
   "outputs": [
    {
     "name": "stdout",
     "output_type": "stream",
     "text": [
      "precision: 0.2\n",
      "recall: 0.375\n"
     ]
    }
   ],
   "source": [
    "p,r = get_precision_recall(gbt_results_valid)"
   ]
  },
  {
   "cell_type": "markdown",
   "metadata": {},
   "source": [
    "### Support Vector Machines"
   ]
  },
  {
   "cell_type": "code",
   "execution_count": 42,
   "metadata": {},
   "outputs": [],
   "source": [
    "model_name = 'Support Vector Machines'\n",
    "numFolds = 3\n",
    "svc = LinearSVC(labelCol='label', featuresCol='features')\n",
    "evaluator = MulticlassClassificationEvaluator(labelCol='label')\n",
    "\n",
    "pipeline = Pipeline(stages=[svc])\n",
    "svc_paramGrid = (ParamGridBuilder()\n",
    "                 .addGrid(svc.maxIter, [5,10])\n",
    "                 .build())\n",
    "\n",
    "crossval = CrossValidator(\n",
    "    estimator=pipeline,\n",
    "    estimatorParamMaps=svc_paramGrid,\n",
    "    evaluator=evaluator,\n",
    "    numFolds=numFolds)\n",
    "\n",
    "svc_start = time.time()\n",
    "svc_model = crossval.fit(balanced_training_dataset)\n",
    "svc_end = time.time()"
   ]
  },
  {
   "cell_type": "code",
   "execution_count": 43,
   "metadata": {},
   "outputs": [
    {
     "name": "stdout",
     "output_type": "stream",
     "text": [
      "Support Vector Machines\n",
      "Total training time: 19.112257599830627 minutes\n",
      "====================\n",
      "Results on validation dataset\n",
      "----------\n",
      "Recall: 0.46808510638297873\n",
      "Precision: 0.7368400315208826\n",
      "Accuracy: 0.46808510638297873\n",
      "F-1 Score: 0.5268146927000156\n"
     ]
    }
   ],
   "source": [
    "model_name = 'Support Vector Machines'\n",
    "model_names.append(model_name)\n",
    "svc_results_valid = svc_model.transform(validation_dataset)\n",
    "svc_metrics_valid, svc_train_time = report_results(model_name, svc_results_valid, svc_start, svc_end)\n",
    "metrics_valid[model_name] = svc_metrics_valid+[svc_train_time]"
   ]
  },
  {
   "cell_type": "code",
   "execution_count": 44,
   "metadata": {},
   "outputs": [
    {
     "name": "stdout",
     "output_type": "stream",
     "text": [
      "precision: 0.18518518518518517\n",
      "recall: 0.625\n"
     ]
    }
   ],
   "source": [
    "p,r = get_precision_recall(svc_results_valid)"
   ]
  },
  {
   "cell_type": "markdown",
   "metadata": {},
   "source": [
    "### Naive Bayes"
   ]
  },
  {
   "cell_type": "code",
   "execution_count": 45,
   "metadata": {},
   "outputs": [],
   "source": [
    "model_name = 'Naive Bayes'\n",
    "numFolds = 3\n",
    "nb = NaiveBayes(labelCol='label', featuresCol='features', modelType=\"multinomial\")\n",
    "evaluator = MulticlassClassificationEvaluator(labelCol='label')\n",
    "\n",
    "pipeline = Pipeline(stages=[nb])\n",
    "nb_paramGrid = (ParamGridBuilder()\n",
    "                 .addGrid(nb.smoothing, [0.0, 0.2, 0.4, 0.6, 0.8, 1.0, 1.5, 2.0])\n",
    "                 .build())\n",
    "\n",
    "crossval = CrossValidator(\n",
    "    estimator=pipeline,\n",
    "    estimatorParamMaps=nb_paramGrid,\n",
    "    evaluator=evaluator,\n",
    "    numFolds=numFolds)\n",
    "\n",
    "nb_start = time.time()\n",
    "nb_model = crossval.fit(balanced_training_dataset)\n",
    "nb_end = time.time()"
   ]
  },
  {
   "cell_type": "code",
   "execution_count": 46,
   "metadata": {},
   "outputs": [
    {
     "name": "stdout",
     "output_type": "stream",
     "text": [
      "Naive Bayes\n",
      "Total training time: 11.936249387264251 minutes\n",
      "====================\n",
      "Results on validation dataset\n",
      "----------\n",
      "Recall: 0.5106382978723404\n",
      "Precision: 0.7210915818686402\n",
      "Accuracy: 0.5106382978723404\n",
      "F-1 Score: 0.570774912573128\n"
     ]
    }
   ],
   "source": [
    "model_name = 'Naive Bayes'\n",
    "model_names.append(model_name)\n",
    "nb_results_valid = nb_model.transform(validation_dataset)\n",
    "nb_metrics_valid, nb_train_time = report_results(model_name, nb_results_valid, nb_start, nb_end)\n",
    "metrics_valid[model_name] = nb_metrics_valid+[nb_train_time]"
   ]
  },
  {
   "cell_type": "code",
   "execution_count": 47,
   "metadata": {},
   "outputs": [
    {
     "name": "stdout",
     "output_type": "stream",
     "text": [
      "precision: 0.17391304347826086\n",
      "recall: 0.5\n"
     ]
    }
   ],
   "source": [
    "p,r = get_precision_recall(nb_results_valid)"
   ]
  },
  {
   "cell_type": "markdown",
   "metadata": {},
   "source": [
    "# Comparison between model performances "
   ]
  },
  {
   "cell_type": "code",
   "execution_count": 51,
   "metadata": {},
   "outputs": [],
   "source": [
    "def plot_model_performance_comparison(model_names, metrics_valid):\n",
    "    \n",
    "    metrics = [\"Weighted Recall\",\"Weighted Precision\", \"Accuracy\", \"F1 score\" ,'Training time']\n",
    "    model_count = len(model_names)\n",
    "\n",
    "    fig, ax = plt.subplots(5,1, figsize = [5,20])\n",
    "\n",
    "    for i,m in enumerate(metrics):\n",
    "\n",
    "        # validation metrics\n",
    "        axi = ax[i]\n",
    "        axi.bar(x=model_names, height = [metrics_valid[model][i] for model in model_names])\n",
    "        axi.set_title(m)\n",
    "        axi.set_xticklabels(model_names,rotation = 45)\n",
    "        axi.grid()\n",
    "#        axi.set_xticks()\n",
    "        \n",
    "    plt.tight_layout()"
   ]
  },
  {
   "cell_type": "code",
   "execution_count": 52,
   "metadata": {},
   "outputs": [
    {
     "data": {
      "image/png": "[encoded data removed]",
      "text/plain": [
       "<Figure size 360x1440 with 5 Axes>"
      ]
     },
     "metadata": {
      "needs_background": "light"
     },
     "output_type": "display_data"
    }
   ],
   "source": [
    "plot_model_performance_comparison(model_names,metrics_valid)"
   ]
  },
  {
   "cell_type": "markdown",
   "metadata": {},
   "source": [
    "# Conclusion"
   ]
  },
  {
   "cell_type": "code",
   "execution_count": null,
   "metadata": {},
   "outputs": [],
   "source": []
  }
 ],
 "metadata": {
  "kernelspec": {
   "display_name": "Python 3",
   "language": "python",
   "name": "python3"
  },
  "language_info": {
   "codemirror_mode": {
    "name": "ipython",
    "version": 3
   },
   "file_extension": ".py",
   "mimetype": "text/x-python",
   "name": "python",
   "nbconvert_exporter": "python",
   "pygments_lexer": "ipython3",
   "version": "3.7.2"
  }
 },
 "nbformat": 4,
 "nbformat_minor": 4
}
